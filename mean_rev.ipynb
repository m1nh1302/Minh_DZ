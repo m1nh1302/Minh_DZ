# LMR High ADX Reversal Strategy for Backtesting on ETH



import yfinance as yf
import pandas as pd
import numpy as np
from backtesting import Backtest, Strategy

class LMRHighADXBacktest(Strategy):
    # --- Strategy Parameters ---
    adx_limit = 20.5             # Minimum ADX threshold to confirm strong trend
    id_drop_pct = 4.0            # Intraday drop percentage to place limit entry
    profit_target_pct = 1.2      # Take profit target as % of ATR
    atr_period = 10              # ATR calculation period
    sma_period = 100             # Long-term trend filter
    rsi_period = 3               # Pullback condition
    adx_period = 7               # Proxy ADX smoothing (via RSI on range)

    def init(self):
        # --- Indicator Initialization ---
        price = self.data.Close
        high = self.data.High
        low = self.data.Low
        close = self.data.Close

        self.atr = self.I(self.compute_atr, high, low, close, self.atr_period)
        self.sma = self.I(lambda x: self.rolling_mean(x, self.sma_period), close)
        self.rsi = self.I(self.compute_rsi, close, self.rsi_period)
        self.adx = self.I(self.compute_rsi, np.abs(high - low), self.adx_period)  # ADX proxy

    def next(self):
        # --- Entry Conditions ---
        if len(self.data) < self.sma_period:
            return

        if self.adx[-1] <= self.adx_limit:  # Skip if trend is not strong
            return

        if self.data.Close[-1] < self.sma[-1] + self.atr[-1]:  # Must be above long-term trend
            return

        if self.rsi[-1] > 50:  # Only enter on moderate pullback
            return

        # --- Place Limit Buy Order Below Close ---
        limit_price = self.data.Close[-1] * (1 - self.id_drop_pct / 100)
        size = self.equity / self.data.Close[-1] * 0.01  # 1% risk position
        self.buy(size=size, limit=limit_price)

        # --- Exit Conditions (Take Profit or Stop Loss) ---
        for trade in self.trades:
            if trade.is_long:
                entry_price = trade.entry_price
                atr = self.atr[-1]
                tp = entry_price + self.profit_target_pct / 100 * atr
                sl = entry_price - 3 * atr
                if self.data.Close[-1] >= tp or self.data.Close[-1] <= sl:
                    trade.close()

    @staticmethod
    def compute_atr(high, low, close, period):
        # Average True Range
        tr = np.maximum.reduce([high[1:] - low[1:],
                                np.abs(high[1:] - close[:-1]),
                                np.abs(low[1:] - close[:-1])])
        atr = np.zeros_like(close)
        atr[:period] = np.nan
        atr[period:] = np.convolve(tr, np.ones(period) / period, mode='valid')
        return np.concatenate([[np.nan]*period, atr[period:]])

    @staticmethod
    def rolling_mean(data, period):
        # Simple Moving Average
        return np.convolve(data, np.ones(period)/period, mode='same')

    @staticmethod
    def compute_rsi(prices, period):
        # Relative Strength Index
        delta = np.diff(prices, prepend=prices[0])
        gain = np.where(delta > 0, delta, 0)
        loss = np.where(delta < 0, -delta, 0)
        avg_gain = np.zeros_like(prices)
        avg_loss = np.zeros_like(prices)

        avg_gain[period] = np.mean(gain[:period])
        avg_loss[period] = np.mean(loss[:period])

        for i in range(period + 1, len(prices)):
            avg_gain[i] = (avg_gain[i - 1] * (period - 1) + gain[i]) / period
            avg_loss[i] = (avg_loss[i - 1] * (period - 1) + loss[i]) / period

        rs = np.divide(avg_gain, avg_loss, out=np.ones_like(avg_gain)*100, where=avg_loss!=0)
        rsi = 100 - (100 / (1 + rs))
        rsi[:period] = np.nan
        return rsi

# --- Load ETH data from Yahoo Finance ---
data = yf.download("ETH-USD", start="2023-08-01", end="2024-01-01", interval="1h")

# Clean and format OHLCV
data = data.reset_index()
data = data.set_index('Datetime')
data = data[['Open', 'High', 'Low', 'Close', 'Volume']]
data.columns = ['Open', 'High', 'Low', 'Close', 'Volume']
data.dropna(inplace=True)

# --- Run backtest ---
bt = Backtest(data, LMRHighADXBacktest, cash=100_000, commission=0.00005)
results = bt.run()
bt.plot()
print(results)

